{
 "cells": [
  {
   "cell_type": "markdown",
   "id": "5a52fe36",
   "metadata": {},
   "source": [
    "안녕하세요, 생성형AI응용의 AI 에이전트/ 미래 환경 발표를 맡게 된 박현성입니다.\n",
    "기술에 대한 간단한 구현을 위해 파이썬 파일을 마련하게 되었는데, API를 재현했지만,GPT가 유료라 금전적인 문제로 파이썬 -> GPT 인터페이스는 구현이 안된다는 점 미리 참고해주시면 감사하겠습니다!"
   ]
  },
  {
   "cell_type": "code",
   "execution_count": 153,
   "id": "47e76c43",
   "metadata": {},
   "outputs": [
    {
     "ename": "SyntaxError",
     "evalue": "invalid syntax (1159377654.py, line 1)",
     "output_type": "error",
     "traceback": [
      "\u001b[1;36m  Cell \u001b[1;32mIn[153], line 1\u001b[1;36m\u001b[0m\n\u001b[1;33m    git remote add GenAIPresentation https://github.com/pb1013/POS-\u001b[0m\n\u001b[1;37m        ^\u001b[0m\n\u001b[1;31mSyntaxError\u001b[0m\u001b[1;31m:\u001b[0m invalid syntax\n"
     ]
    }
   ],
   "source": []
  },
  {
   "cell_type": "markdown",
   "id": "9a1039db",
   "metadata": {},
   "source": [
    "# 함수/클래스 구현"
   ]
  },
  {
   "cell_type": "markdown",
   "id": "06b2d33a",
   "metadata": {},
   "source": [
    "(1) API 가져오기 (출처: 식품안전나라)"
   ]
  },
  {
   "cell_type": "code",
   "execution_count": 58,
   "id": "72f7ad6a",
   "metadata": {},
   "outputs": [],
   "source": [
    "import requests\n",
    "from bs4 import BeautifulSoup\n",
    "import re\n",
    "\n",
    "url = 'http://openapi.foodsafetykorea.go.kr/api/64549ffe161c4784be50/C005/xml/1/16'\n",
    "response = requests.get(url)\n",
    "soup = BeautifulSoup(response.text, 'html.parser')\n",
    "\n",
    "rows = soup.find_all('row')\n",
    "\n",
    "ingList = []\n",
    "\n",
    "##출력값이 제조일로부터 00개월 이런 형식으로 출력하기 때문에 int변수로 바꿔주어야 함.\n",
    "def convert_to_days(pog_daycnt):\n",
    "    if pog_daycnt:\n",
    "        years = re.search(r'(\\d+)년', pog_daycnt)\n",
    "        months = re.search(r'(\\d+)개월', pog_daycnt)\n",
    "        days = re.search(r'(\\d+)일', pog_daycnt)\n",
    "        weeks = re.search(r'(\\d+)주', pog_daycnt)\n",
    "        total_days = 0\n",
    "        if years:\n",
    "            total_days += int(years.group(1)) * 365\n",
    "        if months:\n",
    "            total_days += int(months.group(1)) * 30\n",
    "        if weeks:\n",
    "            total_days += int(weeks.group(1)) * 7\n",
    "        if days:\n",
    "            total_days += int(days.group(1))\n",
    "        return total_days if total_days > 0 else None\n",
    "    return None"
   ]
  },
  {
   "cell_type": "markdown",
   "id": "1a396bfd",
   "metadata": {},
   "source": [
    "(2) 클래스 정의"
   ]
  },
  {
   "cell_type": "code",
   "execution_count": 146,
   "id": "6611a1b8",
   "metadata": {},
   "outputs": [],
   "source": [
    "ingList = []\n",
    "usageList = []\n",
    "##FoodData 클래스를 통해 바코드넘버, 이름, 사용기한이 각각 저장된 데이터 클래스를 갖춤 (생성자, 소멸자 포함)\n",
    "class FoodData:\n",
    "    def __init__(self, barcode_num):\n",
    "        self.num = barcode_num\n",
    "        self.name = None\n",
    "        self.usage_info = None\n",
    "        self.populate_data()\n",
    "        if self.name:\n",
    "            ingList.append(self.name)\n",
    "        if self.usage_info:\n",
    "            usageList.append(self.usage_info)\n",
    "\n",
    "    def populate_data(self):\n",
    "        for row in rows:\n",
    "            bar_cd = row.find('bar_cd').text if row.find('bar_cd') else None\n",
    "            if bar_cd == self.num:\n",
    "                self.name = row.find('prdlst_nm').text if row.find('prdlst_nm') else None\n",
    "                pog_daycnt = row.find('pog_daycnt').text if row.find('pog_daycnt') else None\n",
    "                self.usage_info = convert_to_days(pog_daycnt)\n",
    "                break\n",
    "    def __del__(self):\n",
    "            if self.name in ingList:\n",
    "                ingList.remove(self.name)\n",
    "            print(f\" {self.name}이 삭제되었습니다.\")\n"
   ]
  },
  {
   "cell_type": "markdown",
   "id": "b80aa37e",
   "metadata": {},
   "source": [
    "# 사용 예시"
   ]
  },
  {
   "cell_type": "markdown",
   "id": "bd108bd5",
   "metadata": {},
   "source": [
    "(3) 사용 예시 (바코드 생성)"
   ]
  },
  {
   "cell_type": "code",
   "execution_count": 149,
   "id": "a9985db0",
   "metadata": {
    "scrolled": true
   },
   "outputs": [
    {
     "name": "stdout",
     "output_type": "stream",
     "text": [
      "['좋은상품 유기농 부침가루', '설레임 녹차쉐이크']\n"
     ]
    }
   ],
   "source": [
    "#바코드 입력값\n",
    "barcode_num = '8805522061018'\n",
    "food1 = FoodData(barcode_num)\n",
    "barcode_num2 = '8801062441815'\n",
    "food2 = FoodData(barcode_num2)\n",
    "print(ingList)"
   ]
  },
  {
   "cell_type": "markdown",
   "id": "8447db69",
   "metadata": {},
   "source": [
    "(4) 사용 예시 (소멸자)"
   ]
  },
  {
   "cell_type": "code",
   "execution_count": 148,
   "id": "4f4db151",
   "metadata": {},
   "outputs": [
    {
     "name": "stdout",
     "output_type": "stream",
     "text": [
      " 좋은상품 유기농 부침가루이 삭제되었습니다.\n",
      "Ingredient List after deletion: []\n",
      " 설레임 녹차쉐이크이 삭제되었습니다.\n",
      "Ingredient List after deletion: []\n"
     ]
    }
   ],
   "source": [
    "#유통기한이 지나거나 음식을 사용하려 할 때 지워주기\n",
    "try:\n",
    "    del food1\n",
    "    print(\"Ingredient List after deletion:\", ingList)\n",
    "except NameError:\n",
    "    print(\"food_data_instance has already been deleted.\")\n",
    "try:\n",
    "    del food2\n",
    "    print(\"Ingredient List after deletion:\", ingList)\n",
    "except NameError:\n",
    "    print(\"food_data_instance has already been deleted.\")"
   ]
  },
  {
   "cell_type": "markdown",
   "id": "b337f761",
   "metadata": {},
   "source": [
    "(5) GPT 입력값 만들기"
   ]
  },
  {
   "cell_type": "code",
   "execution_count": 108,
   "id": "ad9eb395",
   "metadata": {},
   "outputs": [
    {
     "name": "stdout",
     "output_type": "stream",
     "text": [
      "[]\n"
     ]
    }
   ],
   "source": [
    "#재료 input\n",
    "gptInput = f\"재료: {ingList}, str(usage_min) + "일"\""
   ]
  },
  {
   "cell_type": "code",
   "execution_count": 151,
   "id": "fd2b5585",
   "metadata": {},
   "outputs": [
    {
     "name": "stdout",
     "output_type": "stream",
     "text": [
      "360\n"
     ]
    }
   ],
   "source": [
    "#사용기한 input\n",
    "usage_min = 0\n",
    "for usageNum in usageList:\n",
    "    if usage_min == 0:\n",
    "        usage_min = usageNum\n",
    "    else:\n",
    "        if usageNum < usage_min:\n",
    "            usage_min = usageNum\n",
    "        else:\n",
    "            continue\n",
    "print(usage_min)"
   ]
  },
  {
   "cell_type": "code",
   "execution_count": 152,
   "id": "7a1fd5f5",
   "metadata": {},
   "outputs": [
    {
     "name": "stdout",
     "output_type": "stream",
     "text": [
      "재료: ['좋은상품 유기농 부침가루', '설레임 녹차쉐이크'], 사용기한: 360\n"
     ]
    }
   ],
   "source": [
    "gptInput = f\"재료: {ingList}, 사용기한: {usage_min}\"\n",
    "print(gptInput)"
   ]
  },
  {
   "cell_type": "code",
   "execution_count": null,
   "id": "7a16c073",
   "metadata": {},
   "outputs": [],
   "source": []
  }
 ],
 "metadata": {
  "kernelspec": {
   "display_name": "Python 3 (ipykernel)",
   "language": "python",
   "name": "python3"
  },
  "language_info": {
   "codemirror_mode": {
    "name": "ipython",
    "version": 3
   },
   "file_extension": ".py",
   "mimetype": "text/x-python",
   "name": "python",
   "nbconvert_exporter": "python",
   "pygments_lexer": "ipython3",
   "version": "3.11.5"
  }
 },
 "nbformat": 4,
 "nbformat_minor": 5
}
